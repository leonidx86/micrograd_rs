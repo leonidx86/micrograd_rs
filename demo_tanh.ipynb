{
 "cells": [
  {
   "cell_type": "code",
   "execution_count": 2,
   "id": "07ffcc4e",
   "metadata": {},
   "outputs": [],
   "source": [
    ":dep rand = \"0.8.5\"\n",
    ":dep micrograd_rs = { path = \".\" }\n",
    "\n",
    "use std::iter::zip;\n",
    "use micrograd_rs::engine::Value;\n",
    "use micrograd_rs::nn::{ActFunc, MLP, Module};"
   ]
  },
  {
   "cell_type": "code",
   "execution_count": 3,
   "id": "a43b474d",
   "metadata": {},
   "outputs": [
    {
     "name": "stdout",
     "output_type": "stream",
     "text": [
      "[\n",
      "    Value(data=0.9131097886864816, grad=-0.17378042262703675 ),\n",
      "    Value(data=-0.8918277596810039, grad=0.21634448063799216 ),\n",
      "    Value(data=-0.9281754074968825, grad=0.14364918500623491 ),\n",
      "    Value(data=0.9012427651510974, grad=-0.19751446969780528 ),\n",
      "]\n"
     ]
    }
   ],
   "source": [
    "// Inputs.\n",
    "let xs = [\n",
    "    [2.0, 3.0, -1.0],\n",
    "    [3.0, -1.0, 0.5],\n",
    "    [0.5, 1.0, 1.0],\n",
    "    [1.0, 1.0, -1.0]\n",
    "];\n",
    "// Desired targets.\n",
    "let ys = [1.0, -1.0, -1.0, 1.0];\n",
    "\n",
    "// Convert inputs of f64 to Value.\n",
    "let inputs: Vec<Vec<Value>> = xs.iter().map(|xrow| vec![Value::new(xrow[0]), Value::new(xrow[1]), Value::new(xrow[2])]).collect();\n",
    "\n",
    "// MLP with three inputs, two 4-size layers, and single output.\n",
    "let mlp = MLP::new(3, &[4, 4, 1], ActFunc::TanH);\n",
    "\n",
    "let mut ypred: Vec<Value> = Vec::new();\n",
    "for _ in 0..20 {\n",
    "    // Forward pass.\n",
    "    ypred = Vec::new();\n",
    "    for x in &inputs {\n",
    "        ypred.push(mlp.forward(x)[0].clone());\n",
    "    }\n",
    "    let loss = zip(ys, ypred.iter())\n",
    "        .map(|(ygt, yout)| (yout - ygt).pow(2.0))\n",
    "        .fold(Value::new(0.0), |a, b| a + b);\n",
    "\n",
    "    // Backward pass. Don't forget to reset grads.\n",
    "    mlp.zero_grad();\n",
    "    loss.backward();\n",
    "\n",
    "    // Update.\n",
    "    for p in mlp.parameters() {\n",
    "        p.set_data(p.get_data() + (-0.1 * p.get_grad()));\n",
    "    }\n",
    "};\n",
    "\n",
    "// Values data should be close to [1.0, -1.0, -1.0, 1.0].\n",
    "println!(\"{:#?}\", ypred);"
   ]
  }
 ],
 "metadata": {
  "kernelspec": {
   "display_name": "Rust",
   "language": "rust",
   "name": "rust"
  },
  "language_info": {
   "codemirror_mode": "rust",
   "file_extension": ".rs",
   "mimetype": "text/rust",
   "name": "Rust",
   "pygment_lexer": "rust",
   "version": ""
  }
 },
 "nbformat": 4,
 "nbformat_minor": 5
}
